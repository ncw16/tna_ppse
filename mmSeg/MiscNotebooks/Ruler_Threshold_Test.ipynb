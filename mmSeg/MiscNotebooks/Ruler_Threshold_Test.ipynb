{
 "cells": [
  {
   "cell_type": "markdown",
   "metadata": {},
   "source": [
    "## Thresholding of projection signature practice"
   ]
  },
  {
   "cell_type": "code",
   "execution_count": 1,
   "metadata": {},
   "outputs": [
    {
     "name": "stdout",
     "output_type": "stream",
     "text": [
      "Successfully created the directory ../Outputs/Plots/Ruler_Threshold/ \n"
     ]
    }
   ],
   "source": [
    "# Import libraries\n",
    "import os\n",
    "import cv2\n",
    "import numpy as np\n",
    "import matplotlib as mpl\n",
    "import matplotlib.pyplot as plt\n",
    "\n",
    "ruler_tb = []\n",
    "ruler_lr = []\n",
    "\n",
    "rootDir = '../ResizedSS8/'\n",
    "\n",
    "# Create the directory for the outputs\n",
    "path = \"../Outputs/Plots/Ruler_Threshold/\"\n",
    "\n",
    "try:\n",
    "    os.mkdir(path)\n",
    "except OSError:\n",
    "    print (\"Creation of the directory %s failed\" % path)\n",
    "else:\n",
    "    print (\"Successfully created the directory %s \" % path)\n",
    "    \n",
    "\n",
    "for dirName, subdirList, fileList in os.walk(rootDir):\n",
    "    print('Found directory: %s' % dirName)\n",
    "    for fname in fileList:\n",
    "        file_name = fname.split(\".\")\n",
    "        print('\\t%s' % file_name[0])\n",
    "        bin_sig = []\n",
    "        bin_sig2 = []\n",
    "        bin_sig3 = []\n",
    "        \n",
    "        #reading the file\n",
    "        image = cv2.imread(dirName + '/' + fname)\n",
    "        \n",
    "        #Converting to greyscale\n",
    "        gry = cv2.cvtColor(image, cv2.COLOR_BGR2GRAY)\n",
    "        sig = np.sum(gry, axis=1)\n",
    "        \n",
    "        av = sum(sig)/len(sig)\n",
    "        av_threshold = 0.5\n",
    "        \n",
    "        minV = min(sig)\n",
    "        min_threshold = 1.5\n",
    "        \n",
    "        ran = max(sig) - min(sig)\n",
    "        ran_threshold = 0.2\n",
    "        \n",
    "        print(av)\n",
    "        print(ran)\n",
    "        \n",
    "        for n in range(len(sig)):\n",
    "            if sig[n] > av_threshold*av:\n",
    "                bin_sig.append(15000)\n",
    "            else:\n",
    "                bin_sig.append(0)\n",
    "                \n",
    "        for n in range(len(sig)):\n",
    "            if sig[n] > min_threshold*minV:\n",
    "                bin_sig2.append(10000)\n",
    "            else:\n",
    "                bin_sig2.append(0)\n",
    "                \n",
    "        for n in range(len(sig)):\n",
    "            if sig[n] > minV + ran_threshold*ran:\n",
    "                bin_sig3.append(5000)\n",
    "            else:\n",
    "                bin_sig3.append(0)\n",
    "\n",
    "        plt.plot(sig, label='Sig')\n",
    "        plt.plot(bin_sig, label='Av Bin Sig')\n",
    "        plt.plot(bin_sig2, label='MinV Bin Sig')\n",
    "        plt.plot(bin_sig3, label='Min+ran Bin Sig')\n",
    "        plt.ylabel('Sum of pixels across columns')\n",
    "        plt.xlabel('Row')\n",
    "        plt.title('Generated signals of '+file_name[0])\n",
    "        plt.legend()\n",
    "        plt.savefig(path + file_name[0] + '.svg', format='svg')\n",
    "        print('Sucessful save')\n",
    "        plt.show()"
   ]
  },
  {
   "cell_type": "code",
   "execution_count": null,
   "metadata": {},
   "outputs": [],
   "source": []
  }
 ],
 "metadata": {
  "kernelspec": {
   "display_name": "Python 3",
   "language": "python",
   "name": "python3"
  },
  "language_info": {
   "codemirror_mode": {
    "name": "ipython",
    "version": 3
   },
   "file_extension": ".py",
   "mimetype": "text/x-python",
   "name": "python",
   "nbconvert_exporter": "python",
   "pygments_lexer": "ipython3",
   "version": "3.7.7"
  }
 },
 "nbformat": 4,
 "nbformat_minor": 2
}

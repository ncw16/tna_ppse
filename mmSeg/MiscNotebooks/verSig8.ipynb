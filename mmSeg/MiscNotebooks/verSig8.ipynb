{
 "cells": [
  {
   "cell_type": "markdown",
   "metadata": {},
   "source": [
    "## Projection Signature praactice (Row direction, resized images factor=8)"
   ]
  },
  {
   "cell_type": "code",
   "execution_count": 4,
   "metadata": {},
   "outputs": [
    {
     "name": "stdout",
     "output_type": "stream",
     "text": [
      "Successfully created the directory ../Outputs/Plots/verSig8/ \n"
     ]
    }
   ],
   "source": [
    "# Import libraries\n",
    "import os\n",
    "import cv2\n",
    "import numpy as np\n",
    "import matplotlib as mpl\n",
    "import matplotlib.pyplot as plt\n",
    "\n",
    "rootDir = '../ResizedSS8/'\n",
    "\n",
    "# Create the directory for the outputs\n",
    "path = \"../Outputs/Plots/verSig8/\"\n",
    "\n",
    "try:\n",
    "    os.mkdir(path)\n",
    "except OSError:\n",
    "    print (\"Creation of the directory %s failed\" % path)\n",
    "else:\n",
    "    print (\"Successfully created the directory %s \" % path)\n",
    "    \n",
    "for dirName, subdirList, fileList in os.walk(rootDir):\n",
    "    print('Found directory: %s' % dirName)\n",
    "    for fname in fileList:\n",
    "        print('\\t%s' % fname)\n",
    "        \n",
    "        file_name = fname.split(\".\")\n",
    "        #print('\\t%s' % file_name[0])\n",
    "        \n",
    "        #reading the file\n",
    "        image = cv2.imread(dirName + '/' + fname)\n",
    "        \n",
    "        #Converting to greyscale\n",
    "        gry = cv2.cvtColor(image, cv2.COLOR_BGR2GRAY)\n",
    "        print(gry.shape)\n",
    "        sig = np.sum(gry, axis=1)\n",
    "        print(len(sig))\n",
    "\n",
    "        plt.plot(sig)\n",
    "        plt.ylabel('Sum of pixels across columns')\n",
    "        plt.xlabel('Row')\n",
    "        plt.title(fname)\n",
    "        plt.savefig(path + file_name[0] + '.svg')\n",
    "        plt.show()"
   ]
  },
  {
   "cell_type": "code",
   "execution_count": null,
   "metadata": {},
   "outputs": [],
   "source": []
  }
 ],
 "metadata": {
  "kernelspec": {
   "display_name": "Python 3",
   "language": "python",
   "name": "python3"
  },
  "language_info": {
   "codemirror_mode": {
    "name": "ipython",
    "version": 3
   },
   "file_extension": ".py",
   "mimetype": "text/x-python",
   "name": "python",
   "nbconvert_exporter": "python",
   "pygments_lexer": "ipython3",
   "version": "3.7.7"
  }
 },
 "nbformat": 4,
 "nbformat_minor": 2
}

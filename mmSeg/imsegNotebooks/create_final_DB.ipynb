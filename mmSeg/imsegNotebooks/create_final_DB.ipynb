{
 "cells": [
  {
   "cell_type": "code",
   "execution_count": 32,
   "metadata": {},
   "outputs": [],
   "source": [
    "import os\n",
    "import pandas as pd\n",
    "import cv2\n",
    "import numpy as np\n",
    "import math\n",
    "import xml.dom.minidom\n",
    "import matplotlib as mpl\n",
    "import matplotlib.pyplot as plt\n",
    "\n",
    "from shapely.geometry import Polygon\n",
    "from PIL import Image\n",
    "from glob import glob"
   ]
  },
  {
   "cell_type": "markdown",
   "metadata": {},
   "source": [
    "## Functions "
   ]
  },
  {
   "cell_type": "code",
   "execution_count": 33,
   "metadata": {},
   "outputs": [],
   "source": [
    "# Create directories\n",
    "\n",
    "def create_dir(dirname):\n",
    "    \n",
    "    try:\n",
    "        os.mkdir(dirname)\n",
    "    except OSError:\n",
    "        print (\"Creation of the directory %s failed\" % dirname)\n",
    "    else:\n",
    "        print (\"Successfully created the directory %s \" % dirname)"
   ]
  },
  {
   "cell_type": "markdown",
   "metadata": {},
   "source": [
    "## Create directories and path to dhSegment output"
   ]
  },
  {
   "cell_type": "code",
   "execution_count": 42,
   "metadata": {},
   "outputs": [
    {
     "name": "stdout",
     "output_type": "stream",
     "text": [
      "Creation of the directory ../Outputs/MM_seg/ failed\n",
      "Successfully created the directory ../Outputs/MM_seg/753_1588848/DB/ \n",
      "Creation of the directory ../Outputs/MM_seg/753_1588848/model_output_regions/ failed\n"
     ]
    }
   ],
   "source": [
    "# Directories and create folders\n",
    "root_dir = \"../Outputs/MM_seg/\"\n",
    "\n",
    "create_dir(root_dir)\n",
    "\n",
    "# Choose the name of the folder to store all the results and resulting mark database\n",
    "folder = \"753_1588848\"\n",
    "reg_dir = \"../Outputs/MM_seg/\" + folder + \"/model_output_regions/\"\n",
    "DB_dir = \"../Outputs/MM_seg/\" + folder + \"/DB/\"\n",
    "xml_dir = \"processed_marks/page_xml/*\"\n",
    "xmls = glob(xml_dir)\n",
    "\n",
    "create_dir(DB_dir)\n",
    "create_dir(reg_dir)"
   ]
  },
  {
   "cell_type": "code",
   "execution_count": 38,
   "metadata": {},
   "outputs": [
    {
     "name": "stdout",
     "output_type": "stream",
     "text": [
      "processed_marks/page_xml/113_21_0057.xml\n",
      "processed_marks/page_xml/114_7_0076.xml\n",
      "processed_marks/page_xml/105_11_0076.xml\n",
      "processed_marks/page_xml/105_6_0052.xml\n",
      "processed_marks/page_xml/114_7_0078.xml\n",
      "processed_marks/page_xml/105_6_0038.xml\n",
      "processed_marks/page_xml/105_11_0105.xml\n",
      "processed_marks/page_xml/105_11_0117.xml\n",
      "processed_marks/page_xml/94_20_0082.xml\n",
      "processed_marks/page_xml/95_32_0051.xml\n",
      "processed_marks/page_xml/105_11_0077.xml\n",
      "processed_marks/page_xml/114_7_0077.xml\n",
      "processed_marks/page_xml/105_11_0103.xml\n",
      "processed_marks/page_xml/94_20_0059.xml\n",
      "processed_marks/page_xml/105_11_0099.xml\n",
      "15\n"
     ]
    }
   ],
   "source": [
    "# Check the files in xml directory\n",
    "\n",
    "for page in xmls:\n",
    "    print(page)\n",
    "    \n",
    "print(len(xmls))"
   ]
  },
  {
   "cell_type": "markdown",
   "metadata": {},
   "source": [
    "## Extract XML regions"
   ]
  },
  {
   "cell_type": "code",
   "execution_count": 39,
   "metadata": {},
   "outputs": [
    {
     "name": "stdout",
     "output_type": "stream",
     "text": [
      "\n",
      "Page being analysed is 113_21_0057.png\n",
      "\n",
      "Page being analysed is 114_7_0076.png\n",
      "\n",
      "Page being analysed is 105_11_0076.png\n",
      "\n",
      "Page being analysed is 105_6_0052.jpg\n",
      "\n",
      "Page being analysed is 114_7_0078.png\n",
      "\n",
      "Page being analysed is 105_6_0038.jpg\n",
      "\n",
      "Page being analysed is 105_11_0105.png\n",
      "\n",
      "Page being analysed is 105_11_0117.png\n",
      "\n",
      "Page being analysed is 94_20_0082.jpg\n",
      "\n",
      "Page being analysed is 95_32_0051.jpg\n",
      "\n",
      "Page being analysed is 105_11_0077.png\n",
      "\n",
      "Page being analysed is 114_7_0077.png\n",
      "\n",
      "Page being analysed is 105_11_0103.png\n",
      "\n",
      "Page being analysed is 94_20_0059.jpg\n",
      "\n",
      "Page being analysed is 105_11_0099.png\n",
      "\n",
      "15\n"
     ]
    }
   ],
   "source": [
    "# Extract model output data from XMLs (XML has the coordinates as x1,y1 x2,y2 x3,y3 x4,y4)\n",
    "                                                               # (bl, br, tr, tl)\n",
    "\n",
    "output = []\n",
    "\n",
    "for page in xmls:\n",
    "\n",
    "    data = []\n",
    "    regions = []    \n",
    "    doc = xml.dom.minidom.parse(page)\n",
    "    \n",
    "    name = doc.getElementsByTagName(\"Page\")\n",
    "    print(\"\\nPage being analysed is \" + name[0].getAttribute(\"imageFilename\"))\n",
    "    data.append(name[0].getAttribute(\"imageFilename\")[:-4])\n",
    "    \n",
    "    Nodelist = doc.getElementsByTagName('Coords')\n",
    "    \n",
    "    for node in Nodelist:\n",
    "        coords = []\n",
    "        coordsTemp = node.getAttribute(\"points\")\n",
    "        coordsTemp = coordsTemp.split(' ')\n",
    "        for x in coordsTemp:\n",
    "            temp = x.split(',')\n",
    "            coords.append((int(temp[0]),int(temp[1])))\n",
    "\n",
    "        regions.append(coords)\n",
    "        \n",
    "    data.append(regions)\n",
    "    output.append(data)\n",
    "\n",
    "print(\"\")\n",
    "print(len(output))"
   ]
  },
  {
   "cell_type": "markdown",
   "metadata": {},
   "source": [
    "## Pixel-based heuristic, create projection signatures, analysis and mark images creation"
   ]
  },
  {
   "cell_type": "code",
   "execution_count": 45,
   "metadata": {},
   "outputs": [
    {
     "name": "stdout",
     "output_type": "stream",
     "text": [
      "\n",
      "Open 113_21_0057\n",
      "\n",
      "Open 114_7_0076\n",
      "\n",
      "Open 105_11_0076\n",
      "\n",
      "Open 105_6_0052\n"
     ]
    },
    {
     "ename": "KeyboardInterrupt",
     "evalue": "",
     "output_type": "error",
     "traceback": [
      "\u001b[0;31m---------------------------------------------------------------------------\u001b[0m",
      "\u001b[0;31mKeyboardInterrupt\u001b[0m                         Traceback (most recent call last)",
      "\u001b[0;32m<ipython-input-45-9848b7d52f3b>\u001b[0m in \u001b[0;36m<module>\u001b[0;34m\u001b[0m\n\u001b[1;32m     21\u001b[0m \u001b[0;34m\u001b[0m\u001b[0m\n\u001b[1;32m     22\u001b[0m     \u001b[0mprint\u001b[0m\u001b[0;34m(\u001b[0m\u001b[0;34m\"\\nOpen \"\u001b[0m \u001b[0;34m+\u001b[0m \u001b[0mfilename\u001b[0m\u001b[0;34m)\u001b[0m\u001b[0;34m\u001b[0m\u001b[0;34m\u001b[0m\u001b[0m\n\u001b[0;32m---> 23\u001b[0;31m     \u001b[0mimg\u001b[0m \u001b[0;34m=\u001b[0m \u001b[0mcv2\u001b[0m\u001b[0;34m.\u001b[0m\u001b[0mimread\u001b[0m\u001b[0;34m(\u001b[0m\u001b[0mfile_dir\u001b[0m\u001b[0;34m)\u001b[0m\u001b[0;34m\u001b[0m\u001b[0;34m\u001b[0m\u001b[0m\n\u001b[0m\u001b[1;32m     24\u001b[0m     \u001b[0mimg\u001b[0m \u001b[0;34m=\u001b[0m \u001b[0mcv2\u001b[0m\u001b[0;34m.\u001b[0m\u001b[0mcvtColor\u001b[0m\u001b[0;34m(\u001b[0m\u001b[0mimg\u001b[0m\u001b[0;34m,\u001b[0m \u001b[0mcv2\u001b[0m\u001b[0;34m.\u001b[0m\u001b[0mCOLOR_BGR2GRAY\u001b[0m\u001b[0;34m)\u001b[0m\u001b[0;34m\u001b[0m\u001b[0;34m\u001b[0m\u001b[0m\n\u001b[1;32m     25\u001b[0m     \u001b[0medges\u001b[0m \u001b[0;34m=\u001b[0m \u001b[0mcv2\u001b[0m\u001b[0;34m.\u001b[0m\u001b[0mCanny\u001b[0m\u001b[0;34m(\u001b[0m\u001b[0mimg\u001b[0m\u001b[0;34m,\u001b[0m\u001b[0;36m100\u001b[0m\u001b[0;34m,\u001b[0m\u001b[0;36m200\u001b[0m\u001b[0;34m)\u001b[0m\u001b[0;34m\u001b[0m\u001b[0;34m\u001b[0m\u001b[0m\n",
      "\u001b[0;31mKeyboardInterrupt\u001b[0m: "
     ]
    }
   ],
   "source": [
    "# Create lists to eventually produce a CSV\n",
    "# Original prize paper file\n",
    "fnames = []\n",
    "# Name of mark image\n",
    "mark_ids = []\n",
    "# Coordinates\n",
    "co = []\n",
    "# Counter for the mark instance\n",
    "m_count = 0\n",
    "\n",
    "# Parameters for the user to choose (The average size of a merchant's size)\n",
    "av_mark_size = 250\n",
    "\n",
    "\n",
    "for x in output:\n",
    "    \n",
    "    # Load the original prize paper image\n",
    "    filename = x[0]\n",
    "    regions = x[1]\n",
    "    file_dir = \"../SampleSetsPNG/\" + filename + \".png\"\n",
    "    \n",
    "    print(\"\\nOpen \" + filename)\n",
    "    img = cv2.imread(file_dir)\n",
    "    img = cv2.cvtColor(img, cv2.COLOR_BGR2GRAY)\n",
    "    edges = cv2.Canny(img,100,200)\n",
    "    \n",
    "    for region in regions:\n",
    "        # Get the cropped image\n",
    "        crop = img[region[1][1]:region[2][1], region[0][0]:region[1][0]]\n",
    "        ecrop = edges[region[1][1]:region[2][1], region[0][0]:region[1][0]]\n",
    "        \n",
    "        # Check the region size, if it is a single MM or not.\n",
    "        if ecrop.shape[0] < av_mark_size:\n",
    "            # Add to DB and dataframe lists\n",
    "            cv2.imwrite(DB_dir + '/mark' + str(m_count) + '.png', crop)\n",
    "            fnames.append(filename)\n",
    "            mark_ids.append(\"mark\" + str(m_count))\n",
    "            co.append(region)\n",
    "            m_count += 1\n",
    "            \n",
    "            continue\n",
    "        else:\n",
    "            \n",
    "            # Create and analyse the projection signature\n",
    "            esig = np.sum(ecrop, axis=1)/255\n",
    "\n",
    "            bin_sig = []\n",
    "            peaks = []\n",
    "            p = []\n",
    "            \n",
    "            #Produce a binary signal, store pixel values for peak and append to peaks.\n",
    "            for n in range(len(esig)):\n",
    "                if esig[n] >= 2:\n",
    "                    bin_sig.append(5)\n",
    "                    p.append(n)\n",
    "                    if n == len(esig)-1:\n",
    "                        peaks.append(p)\n",
    "                else:\n",
    "                    bin_sig.append(0)\n",
    "                    if len(p) != 0:\n",
    "                        peaks.append(p)\n",
    "                        p = []\n",
    "                    else:\n",
    "                        continue\n",
    "            \n",
    "            ubin_sig = list(bin_sig)\n",
    "                \n",
    "            # Filter signal (Remove unlikely peaks)\n",
    "            indicies = []\n",
    "            for x in range(len(peaks)):\n",
    "                peak = peaks[x]\n",
    "                if len(peak) < 50:\n",
    "                    for y in range(len(peak)):\n",
    "                        bin_sig[peak[y]] = 0\n",
    "                    indicies.append(x)\n",
    "                else:\n",
    "                    continue\n",
    "            \n",
    "            # Pop the false peaks from the largest index first\n",
    "            indicies.reverse()\n",
    "            for x in indicies:\n",
    "                peaks.pop(x)\n",
    "            \n",
    "            # Check the number of peaks\n",
    "            if len(peaks) == 1:\n",
    "                # Add to DB and dataframe lists\n",
    "                cv2.imwrite(DB_dir + '/mark' + str(m_count) + '.png', crop)\n",
    "                fnames.append(filename)\n",
    "                mark_ids.append(\"mark\" + str(m_count))\n",
    "                co.append(region)\n",
    "                m_count += 1\n",
    "                \n",
    "                continue\n",
    "            else:\n",
    "                \n",
    "                # Extract the newly segmented merchant's marks\n",
    "                \n",
    "                #plt.plot(esig, label=\"Projection signature\")\n",
    "                #plt.plot(ubin_sig, label=\"Unfiltered binary signal\", linestyle=\"dotted\")\n",
    "                #plt.plot(bin_sig, label=\"Binary signal\", linestyle=\"dashed\")\n",
    "                #plt.xlabel(\"Row\")\n",
    "                #plt.ylabel(\"No. of edge pixels\")\n",
    "                #plt.legend()\n",
    "                #plt.title(\"No. of edge pixels vs row\")\n",
    "\n",
    "                #plt.savefig(reg_dir + filename + '/mark_seg_signal/region' + str(m_count) + '.svg')\n",
    "                #plt.show()\n",
    "\n",
    "                m = 0\n",
    "                for peak in peaks:\n",
    "                    top = region[1][1] + peak[0] - 10\n",
    "                    bottom = region[1][1] + peak[len(peak)-1] + 10\n",
    "                    left = region[0][0] - 20\n",
    "                    right = region[1][0] + 20\n",
    "                    ms_crop = img[top:bottom, region[0][0]:region[1][0]]\n",
    "                    cv2.imwrite(DB_dir + '/mark' + str(m_count) + '.png', ms_crop)\n",
    "                    m += 1\n",
    "                    \n",
    "                    # Add to DB and dataframe lists\n",
    "                    tl = (left,top)\n",
    "                    tr = (right,top)\n",
    "                    br = (right,bottom)\n",
    "                    bl = (left,bottom)\n",
    "                    fnames.append(filename)\n",
    "                    mark_ids.append(\"mark\" + str(m_count))\n",
    "                    co.append([tl,tr,br,bl])\n",
    "                    m_count += 1\n",
    "                    "
   ]
  },
  {
   "cell_type": "markdown",
   "metadata": {},
   "source": [
    "## Create the CSV for the mark database"
   ]
  },
  {
   "cell_type": "code",
   "execution_count": 41,
   "metadata": {
    "collapsed": true
   },
   "outputs": [
    {
     "name": "stdout",
     "output_type": "stream",
     "text": [
      "{'filename': ['113_21_0057', '113_21_0057', '114_7_0076', '114_7_0076', '114_7_0076', '114_7_0076', '114_7_0076', '114_7_0076', '114_7_0076', '114_7_0076', '114_7_0076', '114_7_0076', '114_7_0076', '114_7_0076', '114_7_0076', '114_7_0076', '114_7_0076', '114_7_0076', '114_7_0076', '114_7_0076', '114_7_0076', '114_7_0076', '114_7_0076', '114_7_0076', '114_7_0076', '114_7_0076', '114_7_0076', '114_7_0076', '114_7_0076', '114_7_0076', '114_7_0076', '114_7_0076', '114_7_0076', '114_7_0076', '114_7_0076', '114_7_0076', '114_7_0076', '114_7_0076', '114_7_0076', '105_11_0076', '105_11_0076', '105_11_0076', '105_11_0076', '105_11_0076', '105_11_0076', '105_11_0076', '105_11_0076', '105_11_0076', '105_11_0076', '105_11_0076', '105_11_0076', '105_11_0076', '105_11_0076', '105_6_0052', '105_6_0052', '114_7_0078', '114_7_0078', '114_7_0078', '114_7_0078', '114_7_0078', '114_7_0078', '114_7_0078', '114_7_0078', '114_7_0078', '114_7_0078', '114_7_0078', '114_7_0078', '114_7_0078', '114_7_0078', '114_7_0078', '114_7_0078', '105_11_0105', '105_11_0117', '95_32_0051', '95_32_0051', '105_11_0077', '105_11_0077', '105_11_0077', '105_11_0077', '105_11_0077', '105_11_0077', '105_11_0077', '114_7_0077', '114_7_0077', '114_7_0077', '114_7_0077', '114_7_0077', '114_7_0077', '114_7_0077', '114_7_0077', '114_7_0077', '114_7_0077', '114_7_0077', '114_7_0077', '114_7_0077', '114_7_0077', '114_7_0077', '114_7_0077', '114_7_0077', '114_7_0077', '114_7_0077', '114_7_0077', '114_7_0077', '114_7_0077', '114_7_0077', '114_7_0077', '105_11_0103', '94_20_0059', '105_11_0099'], 'mark_id': ['mark0', 'mark1', 'mark2', 'mark3', 'mark4', 'mark5', 'mark6', 'mark7', 'mark8', 'mark9', 'mark10', 'mark11', 'mark12', 'mark13', 'mark14', 'mark15', 'mark16', 'mark17', 'mark18', 'mark19', 'mark20', 'mark21', 'mark22', 'mark23', 'mark24', 'mark25', 'mark26', 'mark27', 'mark28', 'mark29', 'mark30', 'mark31', 'mark32', 'mark33', 'mark34', 'mark35', 'mark36', 'mark37', 'mark38', 'mark39', 'mark40', 'mark41', 'mark42', 'mark43', 'mark44', 'mark45', 'mark46', 'mark47', 'mark48', 'mark49', 'mark50', 'mark51', 'mark52', 'mark53', 'mark54', 'mark55', 'mark56', 'mark57', 'mark58', 'mark59', 'mark60', 'mark61', 'mark62', 'mark63', 'mark64', 'mark65', 'mark66', 'mark67', 'mark68', 'mark69', 'mark70', 'mark71', 'mark72', 'mark73', 'mark74', 'mark75', 'mark76', 'mark77', 'mark78', 'mark79', 'mark80', 'mark81', 'mark82', 'mark83', 'mark84', 'mark85', 'mark86', 'mark87', 'mark88', 'mark89', 'mark90', 'mark91', 'mark92', 'mark93', 'mark94', 'mark95', 'mark96', 'mark97', 'mark98', 'mark99', 'mark100', 'mark101', 'mark102', 'mark103', 'mark104', 'mark105', 'mark106', 'mark107', 'mark108'], 'co_ordinates': [[(1155, 4256), (1574, 4256), (1574, 4515), (1155, 4515)], [(1389, 3470), (1540, 3470), (1540, 3637), (1389, 3637)], [(4701, 1583), (5159, 1583), (5159, 1733), (4701, 1733)], [(4701, 1755), (5159, 1755), (5159, 1888), (4701, 1888)], [(4701, 1909), (5159, 1909), (5159, 2052), (4701, 2052)], [(4701, 2063), (5159, 2063), (5159, 2191), (4701, 2191)], [(4701, 2199), (5159, 2199), (5159, 2352), (4701, 2352)], [(4701, 2357), (5159, 2357), (5159, 2485), (4701, 2485)], [(4701, 2487), (5159, 2487), (5159, 2646), (4701, 2646)], [(4701, 2664), (5159, 2664), (5159, 2787), (4701, 2787)], [(4701, 2785), (5159, 2785), (5159, 2948), (4701, 2948)], [(4701, 2937), (5159, 2937), (5159, 3095), (4701, 3095)], [(4701, 3096), (5159, 3096), (5159, 3288), (4701, 3288)], [(4701, 3272), (5159, 3272), (5159, 3441), (4701, 3441)], [(4701, 3438), (5159, 3438), (5159, 3599), (4701, 3599)], [(4701, 3587), (5159, 3587), (5159, 3699), (4701, 3699)], [(4701, 3721), (5159, 3721), (5159, 3978), (4701, 3978)], [(4701, 3989), (5159, 3989), (5159, 4128), (4701, 4128)], [(4701, 4122), (5159, 4122), (5159, 4259), (4701, 4259)], [(4701, 4261), (5159, 4261), (5159, 4400), (4701, 4400)], [(4701, 4409), (5159, 4409), (5159, 4551), (4701, 4551)], [(4701, 4549), (5159, 4549), (5159, 4691), (4701, 4691)], [(4701, 4689), (5159, 4689), (5159, 4853), (4701, 4853)], [(4701, 4858), (5159, 4858), (5159, 5013), (4701, 5013)], [(4701, 5007), (5159, 5007), (5159, 5151), (4701, 5151)], [(4701, 5141), (5159, 5141), (5159, 5297), (4701, 5297)], [(4701, 5311), (5159, 5311), (5159, 5476), (4701, 5476)], [(4701, 5460), (5159, 5460), (5159, 5590), (4701, 5590)], [(892, 1543), (1292, 1543), (1292, 1678), (892, 1678)], [(892, 1705), (1292, 1705), (1292, 1856), (892, 1856)], [(892, 1895), (1292, 1895), (1292, 2079), (892, 2079)], [(892, 2070), (1292, 2070), (1292, 2206), (892, 2206)], [(892, 2232), (1292, 2232), (1292, 2376), (892, 2376)], [(892, 2419), (1292, 2419), (1292, 2714), (892, 2714)], [(892, 2730), (1292, 2730), (1292, 2881), (892, 2881)], [(892, 2891), (1292, 2891), (1292, 3025), (892, 3025)], [(892, 3037), (1292, 3037), (1292, 3197), (892, 3197)], [(892, 3199), (1292, 3199), (1292, 3348), (892, 3348)], [(892, 3352), (1292, 3352), (1292, 3495), (892, 3495)], [(817, 3519), (1284, 3519), (1284, 3694), (817, 3694)], [(817, 3679), (1284, 3679), (1284, 3821), (817, 3821)], [(817, 3839), (1284, 3839), (1284, 3982), (817, 3982)], [(817, 3970), (1284, 3970), (1284, 4120), (817, 4120)], [(817, 4149), (1284, 4149), (1284, 4441), (817, 4441)], [(750, 5982), (1100, 5982), (1100, 6135), (750, 6135)], [(750, 6153), (1100, 6153), (1100, 6278), (750, 6278)], [(750, 6310), (1100, 6310), (1100, 6425), (750, 6425)], [(750, 6462), (1100, 6462), (1100, 6572), (750, 6572)], [(750, 6603), (1100, 6603), (1100, 6737), (750, 6737)], [(926, 2293), (1334, 2293), (1334, 2465), (926, 2465)], [(926, 2506), (1334, 2506), (1334, 2665), (926, 2665)], [(879, 4708), (1406, 4708), (1406, 4975), (879, 4975)], [(896, 7116), (1348, 7116), (1348, 7367), (896, 7367)], [(1697, 3674), (2199, 3674), (2199, 3951), (1697, 3951)], [(1631, 4453), (1932, 4453), (1932, 4645), (1631, 4645)], [(976, 1211), (1476, 1211), (1476, 1407), (976, 1407)], [(976, 1414), (1476, 1414), (1476, 1566), (976, 1566)], [(976, 1587), (1476, 1587), (1476, 1735), (976, 1735)], [(976, 1747), (1476, 1747), (1476, 1884), (976, 1884)], [(976, 1895), (1476, 1895), (1476, 2035), (976, 2035)], [(976, 2017), (1476, 2017), (1476, 2177), (976, 2177)], [(976, 2164), (1476, 2164), (1476, 2359), (976, 2359)], [(976, 2346), (1476, 2346), (1476, 2630), (976, 2630)], [(976, 2639), (1476, 2639), (1476, 2770), (976, 2770)], [(976, 2780), (1476, 2780), (1476, 2909), (976, 2909)], [(976, 2918), (1476, 2918), (1476, 3102), (976, 3102)], [(976, 3084), (1476, 3084), (1476, 3237), (976, 3237)], [(976, 3244), (1476, 3244), (1476, 3502), (976, 3502)], [(976, 3485), (1476, 3485), (1476, 4481), (976, 4481)], [(976, 4463), (1476, 4463), (1476, 6540), (976, 6540)], [(1004, 6899), (1180, 6899), (1180, 7032), (1004, 7032)], [(1438, 2059), (2191, 2059), (2191, 2452), (1438, 2452)], [(1455, 2452), (1923, 2452), (1923, 2754), (1455, 2754)], [(3634, 1773), (4176, 1773), (4176, 1893), (3634, 1893)], [(3634, 1884), (4176, 1884), (4176, 2126), (3634, 2126)], [(1152, 4141), (1644, 4141), (1644, 4281), (1152, 4281)], [(1152, 4299), (1644, 4299), (1644, 4459), (1152, 4459)], [(1272, 6472), (1657, 6472), (1657, 6798), (1272, 6798)], [(1085, 5199), (1468, 5199), (1468, 5371), (1085, 5371)], [(1085, 5416), (1468, 5416), (1468, 5556), (1085, 5556)], [(1289, 1923), (1758, 1923), (1758, 2149), (1289, 2149)], [(1255, 3186), (1649, 3186), (1649, 3428), (1255, 3428)], [(951, 1531), (1418, 1531), (1418, 1681), (951, 1681)], [(951, 1703), (1418, 1703), (1418, 1836), (951, 1836)], [(951, 1855), (1418, 1855), (1418, 1995), (951, 1995)], [(951, 2010), (1418, 2010), (1418, 2139), (951, 2139)], [(951, 2144), (1418, 2144), (1418, 2313), (951, 2313)], [(951, 2301), (1418, 2301), (1418, 2427), (951, 2427)], [(951, 2441), (1418, 2441), (1418, 2587), (951, 2587)], [(951, 2604), (1418, 2604), (1418, 2727), (951, 2727)], [(951, 2723), (1418, 2723), (1418, 2873), (951, 2873)], [(951, 2883), (1418, 2883), (1418, 3009), (951, 3009)], [(951, 3043), (1418, 3043), (1418, 3180), (951, 3180)], [(951, 3211), (1418, 3211), (1418, 3358), (951, 3358)], [(951, 3377), (1418, 3377), (1418, 3535), (951, 3535)], [(951, 3525), (1418, 3525), (1418, 3632), (951, 3632)], [(951, 3658), (1418, 3658), (1418, 3780), (951, 3780)], [(951, 3786), (1418, 3786), (1418, 3913), (951, 3913)], [(951, 3926), (1418, 3926), (1418, 4047), (951, 4047)], [(951, 4062), (1418, 4062), (1418, 4200), (951, 4200)], [(951, 4197), (1418, 4197), (1418, 4331), (951, 4331)], [(951, 4343), (1418, 4343), (1418, 4474), (951, 4474)], [(951, 4485), (1418, 4485), (1418, 4622), (951, 4622)], [(951, 4638), (1418, 4638), (1418, 5081), (951, 5081)], [(951, 5063), (1418, 5063), (1418, 5220), (951, 5220)], [(951, 5218), (1418, 5218), (1418, 5523), (951, 5523)], [(1564, 2042), (2249, 2042), (2249, 2419), (1564, 2419)], [(5157, 1313), (5418, 1313), (5418, 1554), (5157, 1554)], [(1263, 2143), (1881, 2143), (1881, 2486), (1263, 2486)]]}\n",
      "        filename  mark_id                                       co_ordinates\n",
      "0    113_21_0057    mark0  [(1155, 4256), (1574, 4256), (1574, 4515), (11...\n",
      "1    113_21_0057    mark1  [(1389, 3470), (1540, 3470), (1540, 3637), (13...\n",
      "2     114_7_0076    mark2  [(4701, 1583), (5159, 1583), (5159, 1733), (47...\n",
      "3     114_7_0076    mark3  [(4701, 1755), (5159, 1755), (5159, 1888), (47...\n",
      "4     114_7_0076    mark4  [(4701, 1909), (5159, 1909), (5159, 2052), (47...\n",
      "..           ...      ...                                                ...\n",
      "104   114_7_0077  mark104  [(951, 5063), (1418, 5063), (1418, 5220), (951...\n",
      "105   114_7_0077  mark105  [(951, 5218), (1418, 5218), (1418, 5523), (951...\n",
      "106  105_11_0103  mark106  [(1564, 2042), (2249, 2042), (2249, 2419), (15...\n",
      "107   94_20_0059  mark107  [(5157, 1313), (5418, 1313), (5418, 1554), (51...\n",
      "108  105_11_0099  mark108  [(1263, 2143), (1881, 2143), (1881, 2486), (12...\n",
      "\n",
      "[109 rows x 3 columns]\n"
     ]
    }
   ],
   "source": [
    "db_dict = {\n",
    "    \"filename\": fnames,\n",
    "    \"mark_id\": mark_ids,\n",
    "    \"co_ordinates\": co\n",
    "}\n",
    "\n",
    "print(db_dict)\n",
    "\n",
    "mark_DB = pd.DataFrame(db_dict)\n",
    "\n",
    "print(mark_DB)\n",
    "\n",
    "mark_DB.to_csv(DB_dir + \"outputDB.csv\", index=True)"
   ]
  }
 ],
 "metadata": {
  "kernelspec": {
   "display_name": "Python 3",
   "language": "python",
   "name": "python3"
  },
  "language_info": {
   "codemirror_mode": {
    "name": "ipython",
    "version": 3
   },
   "file_extension": ".py",
   "mimetype": "text/x-python",
   "name": "python",
   "nbconvert_exporter": "python",
   "pygments_lexer": "ipython3",
   "version": "3.7.7"
  }
 },
 "nbformat": 4,
 "nbformat_minor": 4
}

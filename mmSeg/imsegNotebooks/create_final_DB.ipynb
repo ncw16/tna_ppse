{
 "cells": [
  {
   "cell_type": "code",
   "execution_count": 48,
   "metadata": {},
   "outputs": [],
   "source": [
    "import os\n",
    "import pandas as pd\n",
    "import cv2\n",
    "import numpy as np\n",
    "import math\n",
    "import xml.dom.minidom\n",
    "import matplotlib as mpl\n",
    "import matplotlib.pyplot as plt\n",
    "\n",
    "from shapely.geometry import Polygon\n",
    "from PIL import Image\n",
    "from glob import glob"
   ]
  },
  {
   "cell_type": "markdown",
   "metadata": {},
   "source": [
    "## Functions "
   ]
  },
  {
   "cell_type": "code",
   "execution_count": 49,
   "metadata": {},
   "outputs": [],
   "source": [
    "# Create directories\n",
    "\n",
    "def create_dir(dirname):\n",
    "    \n",
    "    try:\n",
    "        os.mkdir(dirname)\n",
    "    except OSError:\n",
    "        print (\"Creation of the directory %s failed\" % dirname)\n",
    "    else:\n",
    "        print (\"Successfully created the directory %s \" % dirname)"
   ]
  },
  {
   "cell_type": "markdown",
   "metadata": {},
   "source": [
    "## Create directories and path to dhSegment output"
   ]
  },
  {
   "cell_type": "code",
   "execution_count": 50,
   "metadata": {},
   "outputs": [
    {
     "name": "stdout",
     "output_type": "stream",
     "text": [
      "Creation of the directory ../Outputs/MM_seg/ failed\n",
      "Creation of the directory ../Outputs/MM_seg/753_1588848/DB/ failed\n",
      "Creation of the directory ../Outputs/MM_seg/753_1588848/model_output_regions/ failed\n"
     ]
    }
   ],
   "source": [
    "# Directories and create folders\n",
    "root_dir = \"../Outputs/MM_seg/\"\n",
    "\n",
    "create_dir(root_dir)\n",
    "\n",
    "# Choose the name of the folder to store all the results and resulting mark database\n",
    "folder = \"753_1588848\"\n",
    "reg_dir = \"../Outputs/MM_seg/\" + folder + \"/model_output_regions/\"\n",
    "DB_dir = \"../Outputs/MM_seg/\" + folder + \"/DB/\"\n",
    "xml_dir = \"processed_marks/page_xml/*\"\n",
    "xmls = glob(xml_dir)\n",
    "\n",
    "create_dir(DB_dir)\n",
    "create_dir(reg_dir)"
   ]
  },
  {
   "cell_type": "code",
   "execution_count": 51,
   "metadata": {},
   "outputs": [
    {
     "name": "stdout",
     "output_type": "stream",
     "text": [
      "processed_marks/page_xml/113_21_0057.xml\n",
      "processed_marks/page_xml/114_7_0076.xml\n",
      "processed_marks/page_xml/105_11_0076.xml\n",
      "processed_marks/page_xml/114_7_0078.xml\n",
      "processed_marks/page_xml/105_6_0038.xml\n",
      "processed_marks/page_xml/105_11_0105.xml\n",
      "processed_marks/page_xml/105_11_0117.xml\n",
      "processed_marks/page_xml/94_20_0082.xml\n",
      "processed_marks/page_xml/105_11_0077.xml\n",
      "processed_marks/page_xml/114_7_0077.xml\n",
      "processed_marks/page_xml/105_11_0103.xml\n",
      "processed_marks/page_xml/94_20_0059.xml\n",
      "processed_marks/page_xml/105_11_0099.xml\n",
      "13\n"
     ]
    }
   ],
   "source": [
    "# Check the files in xml directory\n",
    "\n",
    "for page in xmls:\n",
    "    print(page)\n",
    "    \n",
    "print(len(xmls))"
   ]
  },
  {
   "cell_type": "markdown",
   "metadata": {},
   "source": [
    "## Extract XML regions"
   ]
  },
  {
   "cell_type": "code",
   "execution_count": 52,
   "metadata": {},
   "outputs": [
    {
     "name": "stdout",
     "output_type": "stream",
     "text": [
      "\n",
      "Page being analysed is 113_21_0057.png\n",
      "\n",
      "Page being analysed is 114_7_0076.png\n",
      "\n",
      "Page being analysed is 105_11_0076.png\n",
      "\n",
      "Page being analysed is 114_7_0078.png\n",
      "\n",
      "Page being analysed is 105_6_0038.jpg\n",
      "\n",
      "Page being analysed is 105_11_0105.png\n",
      "\n",
      "Page being analysed is 105_11_0117.png\n",
      "\n",
      "Page being analysed is 94_20_0082.jpg\n",
      "\n",
      "Page being analysed is 105_11_0077.png\n",
      "\n",
      "Page being analysed is 114_7_0077.png\n",
      "\n",
      "Page being analysed is 105_11_0103.png\n",
      "\n",
      "Page being analysed is 94_20_0059.jpg\n",
      "\n",
      "Page being analysed is 105_11_0099.png\n",
      "\n",
      "13\n"
     ]
    }
   ],
   "source": [
    "# Extract model output data from XMLs (XML has the coordinates as x1,y1 x2,y2 x3,y3 x4,y4)\n",
    "                                                               # (bl, br, tr, tl)\n",
    "\n",
    "output = []\n",
    "\n",
    "for page in xmls:\n",
    "\n",
    "    data = []\n",
    "    regions = []    \n",
    "    doc = xml.dom.minidom.parse(page)\n",
    "    \n",
    "    name = doc.getElementsByTagName(\"Page\")\n",
    "    print(\"\\nPage being analysed is \" + name[0].getAttribute(\"imageFilename\"))\n",
    "    data.append(name[0].getAttribute(\"imageFilename\")[:-4])\n",
    "    \n",
    "    Nodelist = doc.getElementsByTagName('Coords')\n",
    "    \n",
    "    for node in Nodelist:\n",
    "        coords = []\n",
    "        coordsTemp = node.getAttribute(\"points\")\n",
    "        coordsTemp = coordsTemp.split(' ')\n",
    "        for x in coordsTemp:\n",
    "            temp = x.split(',')\n",
    "            coords.append((int(temp[0]),int(temp[1])))\n",
    "\n",
    "        regions.append(coords)\n",
    "        \n",
    "    data.append(regions)\n",
    "    output.append(data)\n",
    "\n",
    "print(\"\")\n",
    "print(len(output))"
   ]
  },
  {
   "cell_type": "markdown",
   "metadata": {},
   "source": [
    "## Pixel-based heuristic, create projection signatures, analysis and mark images creation"
   ]
  },
  {
   "cell_type": "code",
   "execution_count": 53,
   "metadata": {},
   "outputs": [
    {
     "name": "stdout",
     "output_type": "stream",
     "text": [
      "\n",
      "Open 113_21_0057\n",
      "\n",
      "Open 114_7_0076\n",
      "\n",
      "Open 105_11_0076\n",
      "\n",
      "Open 114_7_0078\n",
      "\n",
      "Open 105_6_0038\n",
      "\n",
      "Open 105_11_0105\n",
      "\n",
      "Open 105_11_0117\n",
      "\n",
      "Open 94_20_0082\n",
      "\n",
      "Open 105_11_0077\n",
      "\n",
      "Open 114_7_0077\n",
      "\n",
      "Open 105_11_0103\n",
      "\n",
      "Open 94_20_0059\n",
      "\n",
      "Open 105_11_0099\n"
     ]
    }
   ],
   "source": [
    "# Create lists to eventually produce a CSV\n",
    "# Original prize paper file\n",
    "fnames = []\n",
    "# Name of mark image\n",
    "mark_ids = []\n",
    "# Coordinates\n",
    "co = []\n",
    "# Counter for the mark instance\n",
    "m_count = 0\n",
    "\n",
    "# Parameters for the user to choose (The average size of a merchant's size)\n",
    "av_mark_size = 250\n",
    "\n",
    "\n",
    "for x in output:\n",
    "    \n",
    "    # Load the original prize paper image\n",
    "    filename = x[0]\n",
    "    regions = x[1]\n",
    "    file_dir = \"../SampleSetsPNG/\" + filename + \".png\"\n",
    "    \n",
    "    print(\"\\nOpen \" + filename)\n",
    "    img = cv2.imread(file_dir)\n",
    "    img = cv2.cvtColor(img, cv2.COLOR_BGR2GRAY)\n",
    "    edges = cv2.Canny(img,100,200)\n",
    "    \n",
    "    for region in regions:\n",
    "        # Get the cropped image\n",
    "        crop = img[region[1][1]:region[2][1], region[0][0]:region[1][0]]\n",
    "        ecrop = edges[region[1][1]:region[2][1], region[0][0]:region[1][0]]\n",
    "        \n",
    "        # Check the region size, if it is a single MM or not.\n",
    "        if ecrop.shape[0] < av_mark_size:\n",
    "            # Add to DB and dataframe lists\n",
    "            cv2.imwrite(DB_dir + '/mark' + str(m_count) + '.png', crop)\n",
    "            fnames.append(filename)\n",
    "            mark_ids.append(\"mark\" + str(m_count))\n",
    "            co.append(region)\n",
    "            m_count += 1\n",
    "            \n",
    "            continue\n",
    "        else:\n",
    "            \n",
    "            # Create and analyse the projection signature\n",
    "            esig = np.sum(ecrop, axis=1)/255\n",
    "\n",
    "            bin_sig = []\n",
    "            peaks = []\n",
    "            p = []\n",
    "            \n",
    "            #Produce a binary signal, store pixel values for peak and append to peaks.\n",
    "            for n in range(len(esig)):\n",
    "                if esig[n] >= 2:\n",
    "                    bin_sig.append(5)\n",
    "                    p.append(n)\n",
    "                    if n == len(esig)-1:\n",
    "                        peaks.append(p)\n",
    "                else:\n",
    "                    bin_sig.append(0)\n",
    "                    if len(p) != 0:\n",
    "                        peaks.append(p)\n",
    "                        p = []\n",
    "                    else:\n",
    "                        continue\n",
    "            \n",
    "            ubin_sig = list(bin_sig)\n",
    "                \n",
    "            # Filter signal (Remove unlikely peaks)\n",
    "            indicies = []\n",
    "            for x in range(len(peaks)):\n",
    "                peak = peaks[x]\n",
    "                if len(peak) < 50:\n",
    "                    for y in range(len(peak)):\n",
    "                        bin_sig[peak[y]] = 0\n",
    "                    indicies.append(x)\n",
    "                else:\n",
    "                    continue\n",
    "            \n",
    "            # Pop the false peaks from the largest index first\n",
    "            indicies.reverse()\n",
    "            for x in indicies:\n",
    "                peaks.pop(x)\n",
    "            \n",
    "            # Check the number of peaks\n",
    "            if len(peaks) == 1:\n",
    "                # Add to DB and dataframe lists\n",
    "                cv2.imwrite(DB_dir + '/mark' + str(m_count) + '.png', crop)\n",
    "                fnames.append(filename)\n",
    "                mark_ids.append(\"mark\" + str(m_count))\n",
    "                co.append(region)\n",
    "                m_count += 1\n",
    "                \n",
    "                continue\n",
    "            else:\n",
    "                \n",
    "                # Extract the newly segmented merchant's marks\n",
    "                \n",
    "                #plt.plot(esig, label=\"Projection signature\")\n",
    "                #plt.plot(ubin_sig, label=\"Unfiltered binary signal\", linestyle=\"dotted\")\n",
    "                #plt.plot(bin_sig, label=\"Binary signal\", linestyle=\"dashed\")\n",
    "                #plt.xlabel(\"Row\")\n",
    "                #plt.ylabel(\"No. of edge pixels\")\n",
    "                #plt.legend()\n",
    "                #plt.title(\"No. of edge pixels vs row\")\n",
    "\n",
    "                #plt.savefig(reg_dir + filename + '/mark_seg_signal/region' + str(m_count) + '.svg')\n",
    "                #plt.show()\n",
    "\n",
    "                m = 0\n",
    "                for peak in peaks:\n",
    "                    top = region[1][1] + peak[0] - 10\n",
    "                    bottom = region[1][1] + peak[len(peak)-1] + 10\n",
    "                    left = region[0][0] - 20\n",
    "                    right = region[1][0] + 20\n",
    "                    ms_crop = img[top:bottom, region[0][0]:region[1][0]]\n",
    "                    cv2.imwrite(DB_dir + '/mark' + str(m_count) + '.png', ms_crop)\n",
    "                    m += 1\n",
    "                    \n",
    "                    # Add to DB and dataframe lists\n",
    "                    tl = (left,top)\n",
    "                    tr = (right,top)\n",
    "                    br = (right,bottom)\n",
    "                    bl = (left,bottom)\n",
    "                    fnames.append(filename)\n",
    "                    mark_ids.append(\"mark\" + str(m_count))\n",
    "                    co.append([tl,tr,br,bl])\n",
    "                    m_count += 1\n",
    "                    "
   ]
  },
  {
   "cell_type": "markdown",
   "metadata": {},
   "source": [
    "## Create the CSV for the mark database"
   ]
  },
  {
   "cell_type": "code",
   "execution_count": 54,
   "metadata": {},
   "outputs": [
    {
     "name": "stdout",
     "output_type": "stream",
     "text": [
      "{'filename': ['113_21_0057', '113_21_0057', '114_7_0076', '114_7_0076', '114_7_0076', '114_7_0076', '114_7_0076', '114_7_0076', '114_7_0076', '114_7_0076', '114_7_0076', '114_7_0076', '114_7_0076', '114_7_0076', '114_7_0076', '114_7_0076', '114_7_0076', '114_7_0076', '114_7_0076', '114_7_0076', '114_7_0076', '114_7_0076', '114_7_0076', '114_7_0076', '114_7_0076', '114_7_0076', '114_7_0076', '114_7_0076', '114_7_0076', '114_7_0076', '114_7_0076', '114_7_0076', '114_7_0076', '114_7_0076', '114_7_0076', '114_7_0076', '114_7_0076', '114_7_0076', '114_7_0076', '114_7_0076', '114_7_0076', '105_11_0076', '105_11_0076', '105_11_0076', '105_11_0076', '105_11_0076', '105_11_0076', '105_11_0076', '105_11_0076', '105_11_0076', '105_11_0076', '105_11_0076', '105_11_0076', '105_11_0076', '114_7_0078', '114_7_0078', '114_7_0078', '114_7_0078', '114_7_0078', '114_7_0078', '114_7_0078', '114_7_0078', '114_7_0078', '114_7_0078', '114_7_0078', '114_7_0078', '114_7_0078', '114_7_0078', '114_7_0078', '114_7_0078', '114_7_0078', '114_7_0078', '114_7_0078', '114_7_0078', '114_7_0078', '114_7_0078', '114_7_0078', '114_7_0078', '114_7_0078', '114_7_0078', '114_7_0078', '114_7_0078', '114_7_0078', '114_7_0078', '114_7_0078', '114_7_0078', '114_7_0078', '114_7_0078', '114_7_0078', '114_7_0078', '105_11_0105', '105_11_0117', '105_11_0077', '105_11_0077', '105_11_0077', '105_11_0077', '105_11_0077', '105_11_0077', '105_11_0077', '114_7_0077', '114_7_0077', '114_7_0077', '114_7_0077', '114_7_0077', '114_7_0077', '114_7_0077', '114_7_0077', '114_7_0077', '114_7_0077', '114_7_0077', '114_7_0077', '114_7_0077', '114_7_0077', '114_7_0077', '114_7_0077', '114_7_0077', '114_7_0077', '114_7_0077', '114_7_0077', '114_7_0077', '114_7_0077', '114_7_0077', '114_7_0077', '114_7_0077', '114_7_0077', '114_7_0077', '105_11_0103', '94_20_0059', '105_11_0099'], 'mark_id': ['mark0', 'mark1', 'mark2', 'mark3', 'mark4', 'mark5', 'mark6', 'mark7', 'mark8', 'mark9', 'mark10', 'mark11', 'mark12', 'mark13', 'mark14', 'mark15', 'mark16', 'mark17', 'mark18', 'mark19', 'mark20', 'mark21', 'mark22', 'mark23', 'mark24', 'mark25', 'mark26', 'mark27', 'mark28', 'mark29', 'mark30', 'mark31', 'mark32', 'mark33', 'mark34', 'mark35', 'mark36', 'mark37', 'mark38', 'mark39', 'mark40', 'mark41', 'mark42', 'mark43', 'mark44', 'mark45', 'mark46', 'mark47', 'mark48', 'mark49', 'mark50', 'mark51', 'mark52', 'mark53', 'mark54', 'mark55', 'mark56', 'mark57', 'mark58', 'mark59', 'mark60', 'mark61', 'mark62', 'mark63', 'mark64', 'mark65', 'mark66', 'mark67', 'mark68', 'mark69', 'mark70', 'mark71', 'mark72', 'mark73', 'mark74', 'mark75', 'mark76', 'mark77', 'mark78', 'mark79', 'mark80', 'mark81', 'mark82', 'mark83', 'mark84', 'mark85', 'mark86', 'mark87', 'mark88', 'mark89', 'mark90', 'mark91', 'mark92', 'mark93', 'mark94', 'mark95', 'mark96', 'mark97', 'mark98', 'mark99', 'mark100', 'mark101', 'mark102', 'mark103', 'mark104', 'mark105', 'mark106', 'mark107', 'mark108', 'mark109', 'mark110', 'mark111', 'mark112', 'mark113', 'mark114', 'mark115', 'mark116', 'mark117', 'mark118', 'mark119', 'mark120', 'mark121', 'mark122', 'mark123', 'mark124', 'mark125', 'mark126', 'mark127', 'mark128'], 'co_ordinates': [[(1163, 4265), (1557, 4265), (1557, 4515), (1163, 4515)], [(1431, 3512), (1473, 3512), (1473, 3554), (1431, 3554)], [(901, 2562), (1217, 2562), (1217, 2714), (901, 2714)], [(901, 2730), (1217, 2730), (1217, 2880), (901, 2880)], [(901, 2891), (1217, 2891), (1217, 3025), (901, 3025)], [(901, 3038), (1217, 3038), (1217, 3197), (901, 3197)], [(901, 3200), (1217, 3200), (1217, 3348), (901, 3348)], [(901, 3352), (1217, 3352), (1217, 3490), (901, 3490)], [(4851, 1763), (5151, 1763), (5151, 1888), (4851, 1888)], [(4851, 1909), (5151, 1909), (5151, 2051), (4851, 2051)], [(4851, 2070), (5151, 2070), (5151, 2191), (4851, 2191)], [(4851, 2199), (5151, 2199), (5151, 2352), (4851, 2352)], [(4851, 2357), (5151, 2357), (5151, 2485), (4851, 2485)], [(4734, 4422), (5034, 4422), (5034, 4543), (4734, 4543)], [(4734, 4553), (5034, 4553), (5034, 4691), (4734, 4691)], [(4734, 4689), (5034, 4689), (5034, 4853), (4734, 4853)], [(4734, 4858), (5034, 4858), (5034, 4995), (4734, 4995)], [(4709, 5317), (5034, 5317), (5034, 5476), (4709, 5476)], [(4709, 5460), (5034, 5460), (5034, 5590), (4709, 5590)], [(984, 1895), (1234, 1895), (1234, 2079), (984, 2079)], [(984, 2070), (1234, 2070), (1234, 2200), (984, 2200)], [(4809, 2793), (5050, 2793), (5050, 2932), (4809, 2932)], [(4809, 2943), (5050, 2943), (5050, 3067), (4809, 3067)], [(4843, 2500), (5075, 2500), (5075, 2646), (4843, 2646)], [(4843, 2664), (5075, 2664), (5075, 2785), (4843, 2785)], [(1030, 1714), (1247, 1714), (1247, 1865), (1030, 1865)], [(4804, 3269), (5022, 3269), (5022, 3412), (4804, 3412)], [(4771, 5168), (4988, 5168), (4988, 5301), (4771, 5301)], [(979, 2241), (1197, 2241), (1197, 2375), (979, 2375)], [(4762, 5000), (4955, 5000), (4955, 5143), (4762, 5143)], [(4913, 1572), (5072, 1572), (5072, 1739), (4913, 1739)], [(1055, 1539), (1222, 1539), (1222, 1672), (1055, 1672)], [(4821, 3587), (5005, 3587), (5005, 3696), (4821, 3696)], [(4838, 3111), (5005, 3111), (5005, 3228), (4838, 3228)], [(4829, 4139), (5014, 4139), (5014, 4239), (4829, 4239)], [(4821, 3721), (4988, 3721), (4988, 3821), (4821, 3821)], [(4838, 3855), (4988, 3855), (4988, 3955), (4838, 3955)], [(4871, 3445), (4997, 3445), (4997, 3554), (4871, 3554)], [(988, 2433), (1113, 2433), (1113, 2542), (988, 2542)], [(4855, 4014), (4997, 4014), (4997, 4081), (4855, 4081)], [(4813, 4290), (4905, 4290), (4905, 4365), (4813, 4365)], [(943, 2293), (1317, 2293), (1317, 2465), (943, 2465)], [(943, 2506), (1317, 2506), (1317, 2665), (943, 2665)], [(887, 4724), (1389, 4724), (1389, 4967), (887, 4967)], [(904, 7133), (1339, 7133), (1339, 7358), (904, 7358)], [(867, 3679), (1267, 3679), (1267, 3821), (867, 3821)], [(867, 3839), (1267, 3839), (1267, 3947), (867, 3947)], [(758, 5982), (1091, 5982), (1091, 6135), (758, 6135)], [(758, 6153), (1091, 6153), (1091, 6278), (758, 6278)], [(845, 4147), (1122, 4147), (1122, 4432), (845, 4432)], [(758, 6462), (1008, 6462), (1008, 6572), (758, 6572)], [(758, 6603), (1008, 6603), (1008, 6731), (758, 6731)], [(862, 3972), (1071, 3972), (1071, 4089), (862, 4089)], [(787, 6305), (963, 6305), (963, 6422), (787, 6422)], [(1076, 1587), (1359, 1587), (1359, 1735), (1076, 1735)], [(1076, 1747), (1359, 1747), (1359, 1884), (1076, 1884)], [(1076, 1895), (1359, 1895), (1359, 2035), (1076, 2035)], [(1076, 2017), (1359, 2017), (1359, 2177), (1076, 2177)], [(1076, 2182), (1359, 2182), (1359, 2350), (1076, 2350)], [(1076, 2346), (1359, 2346), (1359, 2484), (1076, 2484)], [(1043, 3088), (1275, 3088), (1275, 3237), (1043, 3237)], [(1043, 3244), (1275, 3244), (1275, 3353), (1043, 3353)], [(1043, 3346), (1275, 3346), (1275, 3502), (1043, 3502)], [(1043, 3510), (1275, 3510), (1275, 3658), (1043, 3658)], [(1043, 3640), (1275, 3640), (1275, 3904), (1043, 3904)], [(1043, 3902), (1275, 3902), (1275, 4039), (1043, 4039)], [(1010, 4347), (1250, 4347), (1250, 4469), (1010, 4469)], [(1010, 4465), (1250, 4465), (1250, 4604), (1010, 4604)], [(1010, 4616), (1250, 4616), (1250, 4746), (1010, 4746)], [(1010, 4754), (1250, 4754), (1250, 4890), (1010, 4890)], [(1001, 5711), (1225, 5711), (1225, 5852), (1001, 5852)], [(1001, 5840), (1225, 5840), (1225, 5980), (1001, 5980)], [(1001, 5970), (1225, 5970), (1225, 6105), (1001, 6105)], [(993, 6133), (1192, 6133), (1192, 6273), (993, 6273)], [(993, 6287), (1192, 6287), (1192, 6427), (993, 6427)], [(993, 6428), (1192, 6428), (1192, 6531), (993, 6531)], [(1010, 5398), (1225, 5398), (1225, 5548), (1010, 5548)], [(1010, 5558), (1225, 5558), (1225, 5695), (1010, 5695)], [(1076, 2639), (1275, 2639), (1275, 2770), (1076, 2770)], [(1076, 2780), (1275, 2780), (1275, 2909), (1076, 2909)], [(1197, 1238), (1440, 1238), (1440, 1396), (1197, 1396)], [(1030, 4925), (1180, 4925), (1180, 5051), (1030, 5051)], [(1021, 5251), (1163, 5251), (1163, 5360), (1021, 5360)], [(1130, 2500), (1272, 2500), (1272, 2609), (1130, 2609)], [(1021, 6907), (1155, 6907), (1155, 7016), (1021, 7016)], [(1105, 2960), (1247, 2960), (1247, 3060), (1105, 3060)], [(1214, 1438), (1356, 1438), (1356, 1522), (1214, 1522)], [(1038, 5109), (1155, 5109), (1155, 5209), (1038, 5209)], [(1096, 4214), (1180, 4214), (1180, 4273), (1096, 4273)], [(1113, 4097), (1155, 4097), (1155, 4139), (1113, 4139)], [(1463, 2076), (2166, 2076), (2166, 2436), (1463, 2436)], [(1480, 2461), (1915, 2461), (1915, 2737), (1480, 2737)], [(1160, 4141), (1627, 4141), (1627, 4281), (1160, 4281)], [(1160, 4299), (1627, 4299), (1627, 4459), (1160, 4459)], [(1297, 6489), (1641, 6489), (1641, 6790), (1297, 6790)], [(1297, 1940), (1758, 1940), (1758, 2149), (1297, 2149)], [(1264, 3194), (1649, 3194), (1649, 3420), (1264, 3420)], [(1113, 5218), (1423, 5218), (1423, 5377), (1113, 5377)], [(1356, 5444), (1431, 5444), (1431, 5527), (1356, 5527)], [(1085, 1711), (1401, 1711), (1401, 1836), (1085, 1836)], [(1085, 1856), (1401, 1856), (1401, 1995), (1085, 1995)], [(1085, 2010), (1401, 2010), (1401, 2137), (1085, 2137)], [(1085, 2145), (1401, 2145), (1401, 2296), (1085, 2296)], [(1085, 2301), (1401, 2301), (1401, 2427), (1085, 2427)], [(1085, 2441), (1401, 2441), (1401, 2586), (1085, 2586)], [(1010, 4355), (1267, 4355), (1267, 4474), (1010, 4474)], [(1010, 4485), (1267, 4485), (1267, 4622), (1010, 4622)], [(1010, 4638), (1267, 4638), (1267, 4782), (1010, 4782)], [(1010, 4786), (1267, 4786), (1267, 4921), (1010, 4921)], [(1010, 4933), (1267, 4933), (1267, 5060), (1010, 5060)], [(1043, 2604), (1275, 2604), (1275, 2726), (1043, 2726)], [(1043, 2733), (1275, 2733), (1275, 2872), (1043, 2872)], [(1043, 2883), (1275, 2883), (1275, 3009), (1043, 3009)], [(976, 5250), (1259, 5250), (1259, 5398), (976, 5398)], [(976, 5382), (1259, 5382), (1259, 5512), (976, 5512)], [(1155, 1522), (1331, 1522), (1331, 1681), (1155, 1681)], [(1038, 5084), (1255, 5084), (1255, 5209), (1038, 5209)], [(1071, 3044), (1272, 3044), (1272, 3169), (1071, 3169)], [(1055, 3211), (1239, 3211), (1239, 3345), (1055, 3345)], [(1063, 3529), (1255, 3529), (1255, 3621), (1063, 3621)], [(1088, 4081), (1255, 4081), (1255, 4173), (1088, 4173)], [(1096, 3788), (1230, 3788), (1230, 3888), (1096, 3888)], [(1088, 3654), (1222, 3654), (1222, 3754), (1088, 3754)], [(1096, 3395), (1205, 3395), (1205, 3479), (1096, 3479)], [(1071, 4231), (1189, 4231), (1189, 4290), (1071, 4290)], [(1147, 3955), (1247, 3955), (1247, 4005), (1147, 4005)], [(1589, 2059), (2241, 2059), (2241, 2402), (1589, 2402)], [(5171, 1326), (5412, 1326), (5412, 1547), (5171, 1547)], [(1296, 2159), (1873, 2159), (1873, 2478), (1296, 2478)]]}\n",
      "        filename  mark_id                                       co_ordinates\n",
      "0    113_21_0057    mark0  [(1163, 4265), (1557, 4265), (1557, 4515), (11...\n",
      "1    113_21_0057    mark1  [(1431, 3512), (1473, 3512), (1473, 3554), (14...\n",
      "2     114_7_0076    mark2  [(901, 2562), (1217, 2562), (1217, 2714), (901...\n",
      "3     114_7_0076    mark3  [(901, 2730), (1217, 2730), (1217, 2880), (901...\n",
      "4     114_7_0076    mark4  [(901, 2891), (1217, 2891), (1217, 3025), (901...\n",
      "..           ...      ...                                                ...\n",
      "124   114_7_0077  mark124  [(1071, 4231), (1189, 4231), (1189, 4290), (10...\n",
      "125   114_7_0077  mark125  [(1147, 3955), (1247, 3955), (1247, 4005), (11...\n",
      "126  105_11_0103  mark126  [(1589, 2059), (2241, 2059), (2241, 2402), (15...\n",
      "127   94_20_0059  mark127  [(5171, 1326), (5412, 1326), (5412, 1547), (51...\n",
      "128  105_11_0099  mark128  [(1296, 2159), (1873, 2159), (1873, 2478), (12...\n",
      "\n",
      "[129 rows x 3 columns]\n"
     ]
    }
   ],
   "source": [
    "db_dict = {\n",
    "    \"filename\": fnames,\n",
    "    \"mark_id\": mark_ids,\n",
    "    \"co_ordinates\": co\n",
    "}\n",
    "\n",
    "print(db_dict)\n",
    "\n",
    "mark_DB = pd.DataFrame(db_dict)\n",
    "\n",
    "print(mark_DB)\n",
    "\n",
    "mark_DB.to_csv(DB_dir + \"outputDB.csv\", index=True)"
   ]
  }
 ],
 "metadata": {
  "kernelspec": {
   "display_name": "Python 3",
   "language": "python",
   "name": "python3"
  },
  "language_info": {
   "codemirror_mode": {
    "name": "ipython",
    "version": 3
   },
   "file_extension": ".py",
   "mimetype": "text/x-python",
   "name": "python",
   "nbconvert_exporter": "python",
   "pygments_lexer": "ipython3",
   "version": "3.7.7"
  }
 },
 "nbformat": 4,
 "nbformat_minor": 4
}
